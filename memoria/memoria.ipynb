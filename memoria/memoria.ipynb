{
 "cells": [
  {
   "cell_type": "markdown",
   "metadata": {},
   "source": [
    "# **Análisis del mercado literario**"
   ]
  },
  {
   "cell_type": "markdown",
   "metadata": {},
   "source": [
    "### **Tema**\n",
    "En los últimos años, debido a los avances tecnológicos, el mercado literario está experimentando un cambio en su modelo de negocio. En los últimos años han aparecido \n",
    "\n",
    "nuevos formatos que están cambiando la forma de consumo de libros. \n",
    "Con este EDA se pretende analizar cómo está evolucionando la industria editorial y sus principales características.\n",
    "\n",
    "Para ello, se han planteado las siguientes hipótesis:\n",
    "##### Hipótesis principal\n",
    "* El número de publicaciones anuales ha aumentado\n",
    "\n",
    "##### Otras hipótesis\n",
    "\n",
    "* La publicación de libros por categoría varía según el formato de lectura\n",
    "* No hay correlación entre el número de reseñas y la puntuación media de los libros."
   ]
  },
  {
   "cell_type": "markdown",
   "metadata": {},
   "source": [
    "### **Obtención de los datos**"
   ]
  },
  {
   "cell_type": "markdown",
   "metadata": {},
   "source": [
    "### Datasets y fuentes alternativas de datos"
   ]
  },
  {
   "cell_type": "code",
   "execution_count": 4,
   "metadata": {},
   "outputs": [],
   "source": [
    "import numpy as np\n",
    "import pandas as pd\n",
    "import seaborn as sns\n",
    "import matplotlib.pyplot as plt\n",
    "from scipy import stats\n",
    "import random"
   ]
  },
  {
   "cell_type": "markdown",
   "metadata": {},
   "source": [
    "**Fuente 1:** Dataset de libros en kindle.com con más de 130 mil entradas. "
   ]
  },
  {
   "cell_type": "code",
   "execution_count": null,
   "metadata": {},
   "outputs": [],
   "source": [
    "df_kindle = pd.read_csv(\"../data/kindle_data-v2.csv\")\n",
    "fuente_1 = \"https://www.kaggle.com/datasets/asaniczka/amazon-kindle-books-dataset-2023-130k-books\""
   ]
  },
  {
   "cell_type": "markdown",
   "metadata": {},
   "source": [
    "**Fuente 2:** Dataset de audiolibros en audible.com con el top 100 de 24 categorías. "
   ]
  },
  {
   "cell_type": "code",
   "execution_count": null,
   "metadata": {},
   "outputs": [],
   "source": [
    "df_t100aud = pd.read_csv(\"../data/Audible_Top_100_Final.csv\", encoding='windows-1252')\n",
    "fuente_2 = \"https://www.kaggle.com/datasets/ntsmith/audible-top-100-best-selling-all-categories\""
   ]
  },
  {
   "cell_type": "markdown",
   "metadata": {},
   "source": [
    "**Fuente 3:** Dataset que incluye el top 100 de libros vendidos desde 2009 a 2021"
   ]
  },
  {
   "cell_type": "code",
   "execution_count": null,
   "metadata": {},
   "outputs": [],
   "source": [
    "df_t100am = pd.read_excel(\"../data/BBDD_EDA/Amazon_top100.xlsx\")\n",
    "fuente_3 = \"https://www.kaggle.com/datasets/abdulhamidadavize/top-100-best-selling-books-on-amazon-20092021\""
   ]
  },
  {
   "cell_type": "markdown",
   "metadata": {},
   "source": [
    "**Fuente 4:** Dataset que contiene más de 100 mil referncias obtenidas de la página web de la librería americana Wonder Book. "
   ]
  },
  {
   "cell_type": "code",
   "execution_count": null,
   "metadata": {},
   "outputs": [],
   "source": [
    "bookdataset = pd.read_csv(\"../data/BBDD_EDA/BooksDatasetClean.csv\")\n",
    "fuente_4 = \"https://www.kaggle.com/datasets/elvinrustam/books-dataset\""
   ]
  },
  {
   "cell_type": "code",
   "execution_count": null,
   "metadata": {},
   "outputs": [],
   "source": [
    "### Por el momento sin utilizar los siguientes dataframes\n",
    "\n",
    "#Puede que sí nos valga\n",
    "df_2_best_selling = pd.DataFrame(pd.read_csv(\"../data/best-selling-books.csv\"))\n",
    "fuente_2 = \"https://www.kaggle.com/datasets/drahulsingh/best-selling-books\"\n",
    "\n",
    "\n",
    "df_5_abs_sec_esp = pd.DataFrame(pd.read_csv(\"../data/abs_sect_editorial_esp.csv\"))\n",
    "fuente_5 = \"https://www.federacioneditores.org/datos-estadisticos-2020.php\"\n",
    "\n",
    "df_6_dist_cifneg_gen = pd.DataFrame(pd.read_csv(\"../data/dist_cif_neg_genero_sect_editorial_esp.csv\"))\n",
    "fuente_6 = \"https://www.federacioneditores.org/datos-estadisticos-2020.php\"\n",
    "\n",
    "# esta está bie, pero hay libros repetidos debido a que tienen diferente formato, quizás tampoco es la mejor, porque no te dice a qué formato pertenece cada uno\n",
    "df_7_bestsell_amazon = pd.DataFrame(pd.read_csv(\"../data/bestsellers_with_categories_2022_03_27.csv\"))\n",
    "fuente_7 = \"https://www.kaggle.com/datasets/chriskachmar/amazon-top-50-bestselling-books-2009-2022?select=bestsellers_with_categories_2022_03_27.csv\"\n",
    "\n",
    "# bbdd de Netflix para ver si se pudiera rastrear algo\n",
    "df_8_imdb = pd.DataFrame(pd.read_csv(\"../data/Netflix_data.csv\"))\n",
    "fuente_8 = \"https://www.kaggle.com/datasets/abdulszz/netflix-data\"\n",
    "\n",
    "# 20 adaptaciones de libros a pantalla\n",
    "df_9_adaptations = pd.DataFrame(pd.read_csv(\"../data/bookfilm_adapt.csv\"))\n",
    "fuente_9 = \"https://ew.com/best-book-to-screen-adaptations-of-all-time-8685833\""
   ]
  },
  {
   "cell_type": "markdown",
   "metadata": {},
   "source": [
    "### Tratamiento de datos\n",
    "En lineas generales, a todos los datasets se les ha realizado una limpieza, convirtiendo todas las strings a minúscula, eliminando espacios no necesarios y sustituyendo espacios en las etiquetas de columna por \"_\" para que sean más accesibles. También en aquellos casos necesarios, se sustituyó el texto \"nan\" por np.nan para que no afectaran al análisis y se eliminaron filas sin títulos de libros en caso de que existiera alguna.\n",
    "\n",
    "Independientemente, al trabajar con varios datasets, he optado por hacerlo en libros distintos, para tener un mejor control de cada dataframe:\n",
    "\n",
    "#### [Wonder Book](\"../notebooks/kindle.ipynb\")\n",
    "En este dataset, a parte de realizar la limpieza a los datos ya comentada, también hubo que hacer una serie de ajustes ya que la columna con los datos de los autores incluía en todos ellos un \"by\" junto al nombre del autor. Ese \"by\" se sustituyo por \"\" (vacío). Después aquellos títulos que quedaron sin autor se sustituyó por **\"unknown\"** ya que puede haber libros sin autor específico.\n",
    "Después, se eliminaron las filas con **títulos duplicados**. En este caso tomé la decisión de que me quedaría con los títulos que en caso de estar duplicados, tuvieran un autor no desconocido y cuyo año de publicación fuera el más antiguo.\n",
    "Por otro lado, el dataset tenía una única columna de categoría donde incluía varios datos, por lo que decidí dividirla en diferentes columnas.\n",
    "Tras ello, comprobé la primera columna de categoría que se había generado. Me llamó la atención que la que más valores tenía era *\"ficción\"*, bastante genérica, por lo que decidí crear una nueva columna denominada **\"category_resumen_1\"** en la que apliqué varios cambios.\n",
    " 1. Primero senté la base de los valores, que era que si el género de ese título era ficción, que devolviera la segunda categoría de género, si no, que se quedara con el género de \"category_1\".\n",
    " 2. Una vez aplicado ese cambio, tomando como referencia las categorías de kindle, apliqué un cambio de denominación a aquellas categorías que tenían un número elevado de referencias, para que fuera lo más comparable posible el dato con los otros dataset.\n",
    "\n",
    "Una vez hecho esto, decidí crear otra columna con el **top 10** de géneros, para poder graficarlos mejor. Así que a todo aquel género que no estuviera en la lista del top 10, se le renombraría como \"other\", excepto los nulos, que se dejarían como tal.\n",
    "\n",
    "También decidí crear una nueva columna de bins con las décadas de publicación para poder graficar mejor el año de publicación, ya que el rango era muy amplio. Decidí que los bins serían todas las décadas desde los años 50 hasta la del 2010. Todos los libros publicados anteriormente a 1950 están en el bin *\"before 1950\"* y todos los publicados a partir de 2020 están en *\"after 2019\"*.\n",
    "\n",
    "Tras ello eliminé todas las columnas del dataframe que no necesitaba para posteriores análisis.\n",
    "\n",
    "\n",
    "#### [Kindle](\"../notebooks/kindle.ipynb\")\n",
    "Este dataset de Kindle incluye más de 130 mil referencias. Este al igual que el anterior se ha limpiado, se han creado las columnas de bins de **décadas** para los años y la columna del **top 10**. \n",
    "He decidido eliminar también todas las filas de título duplicado siguiendo los mismos criterios que en el dataset anterior, y también he eliminado todas las filas de las que no había año de publicación. \n",
    "También he agregado una columna de ranking según el número de reviews, que podríamos considerar como **nº de lecturas** por categoría.\n",
    "\n",
    "#### [Audible](\"../notebooks/kindle.ipynb\")\n",
    "En este dataset se muestra el top 100 de audiolibros vendidos por categoría. Como en los casos anteriores se ha limpiado, y se le ha añadido la columna del **top 10** desde el último dataframe de kindle.\n",
    "Con este dataset se busca comprobar la evolución de los audiolibros.\n",
    "\n",
    "#### [Amazon](\"../notebooks/kindle.ipynb\")\n",
    "En este dataset se muestra el top 100 de libros vendidos en Amazon desde 2009 a 2021. Como en los casos anteriores se ha limpiado, y se le ha añadido la columna del **top 10** desde el último dataframe de kindle.\n",
    "Con este dataset por un lado se pretende ver la evolución de las ventas según el tipo de cubierta del libro.\n",
    "\n"
   ]
  },
  {
   "cell_type": "markdown",
   "metadata": {},
   "source": [
    "El siguiente es el código utilizado para limpiar los datasets. "
   ]
  },
  {
   "cell_type": "code",
   "execution_count": null,
   "metadata": {},
   "outputs": [],
   "source": [
    "def clean_dataset(df):\n",
    "    df.drop(df[df[\"title\"].isnull()].index, inplace=True)\n",
    "    #df.drop(columns=['Unnamed: 0'], inplace=True)\n",
    "    df = df.dropna(how=\"all\", axis= 1)\n",
    "    for column in df.columns:\n",
    "        #print(\"Va por: \", column)\n",
    "        if df[column].dtype == object:\n",
    "            #print(\"tipo columna: \", df[column].dtype)\n",
    "            df[column] = df[column].str.lower()\n",
    "            df[column] = df[column].astype(str).str.strip()\n",
    "            df.replace({'nan': np.nan}, inplace=True)\n",
    "    df.columns = df.columns.str.lower().str.replace(' ', '_')\n",
    "    df.drop(df[df[\"title\"].isnull()].index, inplace=True)\n",
    "    df[\"author\"] = np.where(df[\"author\"] == \"\", \"unknown\", df[\"author\"])  \n",
    "    return df\n",
    "\n",
    "df_kd = clean_dataset(df)  "
   ]
  },
  {
   "cell_type": "markdown",
   "metadata": {},
   "source": [
    "Con el código siguiente se ha incluido en los dataframe la columna de rango de años para trabajar con los datos en décadas en vez de año a año."
   ]
  },
  {
   "cell_type": "code",
   "execution_count": null,
   "metadata": {},
   "outputs": [],
   "source": [
    "# para crear columna de año a partir de la de fecha de publicacion\n",
    "df[\"published_year\"] = df[\"publisheddate\"].str.split(\"-\").str[0]\n",
    "df[\"published_year\"] = df[\"published_year\"].astype(\"Int64\")\n",
    "# Nueva columna de rangos de décadas. En kindle va desde los 2000\n",
    "bins = [-float('inf'), 1989, 1994, 1999, 2004, 2009, 2014, 2019, float('inf')]\n",
    "labels = ['before 1990', '1990-1994', '1995-1999', '2000-2004', '2005-2009', '2010-2014', '2015-2019', 'after 2019']\n",
    "\n",
    "df_bd['year_range'] = pd.cut(df_bd['publish_date_(year)'], bins=bins, labels=labels)"
   ]
  },
  {
   "cell_type": "markdown",
   "metadata": {},
   "source": [
    "Y este código se ha utilizado para elimianr los duplicados de título. Se ha priorizado el quedarnos con aquellos títulos que tenían un autor asociado y con el año de publicación más antiguo."
   ]
  },
  {
   "cell_type": "code",
   "execution_count": null,
   "metadata": {},
   "outputs": [],
   "source": [
    "# para eliminar duplicados\n",
    "df_duplicated = df_kd[df_kd[\"title\"].duplicated()].sort_values(by= \"author\", ascending= True)\n",
    "df_kd.drop(df_duplicated[df_duplicated[\"author\"] == \"Unknown\"].index, inplace= True)\n",
    "# para eliminar duplicados quedándonos con el primer año de publicación del mismo título\n",
    "df_kd.sort_values(by=\"published_year\", inplace=True)\n",
    "df_kd.drop_duplicates(\"title\", inplace=True)"
   ]
  },
  {
   "cell_type": "markdown",
   "metadata": {},
   "source": [
    "El código siguiente se ha utilizado para generar la variable de top 10 de categorías. Ordenando las categorías según su conteo y filtrandola por las 10 mayores. El resto de categorías si existían han pasado a ser \"others\". "
   ]
  },
  {
   "cell_type": "code",
   "execution_count": null,
   "metadata": {},
   "outputs": [],
   "source": [
    "# Para generar variable top_10 de categorías\n",
    "top_10_categories = df_kd[\"category_name\"].value_counts().nlargest(10).index\n",
    "df_kd['category_top_10'] =  np.nan\n",
    "df_kd['category_top_10'] = np.where(df_kd['category_name'].isna(), np.nan, np.where(df_kd['category_name'].isin(top_10_categories), df_kd['category_name'], 'others'))"
   ]
  },
  {
   "cell_type": "markdown",
   "metadata": {},
   "source": [
    "Para el dataset de kindle, como se comenta más arriba, también he creado un ranking por número de reviews de cada categoría"
   ]
  },
  {
   "cell_type": "code",
   "execution_count": null,
   "metadata": {},
   "outputs": [],
   "source": [
    "# creación de un ranking según el número de reviews por categoría.\n",
    "categories = df_kd[\"category_top_10\"].unique()\n",
    "for categorie in categories:\n",
    "    #print(categorie)\n",
    "    df_categorie = df_kd[df_kd[\"category_top_10\"] == categorie].copy()\n",
    "    df_categorie = df_categorie.sort_values(by= [\"reviews\"], ascending= False)\n",
    "    df_categorie[\"ranking_\" + str(categorie)] = range(1, len(df_categorie) + 1)\n",
    "    #print(len(df_categorie))\n",
    "    df_kd = pd.merge(df_kd,df_categorie, how=\"left\")"
   ]
  },
  {
   "cell_type": "markdown",
   "metadata": {},
   "source": [
    "## HIPÓTESIS 1: *El número de publicaciones anuales ha aumentado*\n",
    "\n",
    "Para esta hipótesis vamos a tener en cuenta el dataset de Wonder Book y el dataset de Kindle.\n",
    "\n",
    "En cada uno se va a graficar un gráfico de barras que muestra el número de libros publicados por década.\n",
    "Para que el gráfico salga ordenado, primero se vuelven a ordenar todos los valores por año de publicación.\n",
    "\n",
    "Luego con un groupby he obtneido los datos a graficar, es decir el número de libros publicados por década, tanto en Kindle como en Wonderbook y el resultado lo he vuelto a guardar como un dataframe para graficarlo en un gráfico de barras con seaborn.\n",
    "\n"
   ]
  },
  {
   "cell_type": "code",
   "execution_count": null,
   "metadata": {},
   "outputs": [],
   "source": [
    "# Para graficar los datos referidos a publicaciones totales por década.\n",
    "titles_decade_count = df_kd_h1.groupby(\"year_range\")[\"title\"].count().reset_index(name='title_count')\n",
    "sns.barplot(titles_decade_count, x = \"year_range\", y = \"title_count\")\n",
    "plt.xticks(rotation= 45)\n",
    "plt.title('Nº LIBROS PUBLICADOS POR AÑO EN PAPEL', fontsize=18)\n",
    "plt.xlabel('Décadas', fontsize=14)\n",
    "plt.ylabel('Nº de libros', fontsize=14);"
   ]
  },
  {
   "cell_type": "markdown",
   "metadata": {},
   "source": [
    "## HIPÓTESIS 2: *La publicación de libros por categoría varía según el formato de lectura*\n",
    "\n",
    "En este caso, lo que se busca es ver si hay en la distribución de la publicación de libros dependiendo del formato de lectura.\n",
    "\n",
    "para ello se ha hecho un groupby por rango de años y el top10 de categoría y se ha hecho un conteo del nº de títulos que cumplen esas condiciones. Después se ha pasado a una pivot table y posteriormente se han calculado las frecuencias para graficarlo de forma que el valor representado sea la distribución en porcentaje de los géneros publicados por rango de años."
   ]
  },
  {
   "cell_type": "code",
   "execution_count": null,
   "metadata": {},
   "outputs": [],
   "source": [
    "generos_decada = df_kd_h1.groupby([\"year_range\",\"category_top_10\"])[\"title\"].size().reset_index(name='counts')\n",
    "generos_decada_piv = generos_decada.pivot(index='year_range', columns='category_top_10', values='counts')\n",
    "#para ordenar los valores\n",
    "category_totals = generos_decada_piv.sum().sort_values(ascending=False)\n",
    "generos_decada_piv  = generos_decada_piv [category_totals.index]\n",
    "# para calcular las frecuencias\n",
    "totales_decada = generos_decada_piv.sum(axis=1)\n",
    "generos_decada_per = generos_decada_piv.div(totales_decada, axis =0) * 100\n",
    "\n",
    "# gráfico de la distribución\n",
    "generos_decada_per.plot(kind=\"bar\", stacked=True, figsize=(10,6), colormap=\"tab20\")\n",
    "plt.title('Distribución de Categorías por Década en formato ebook')\n",
    "plt.ylabel('Distribución(%)')\n",
    "plt.xlabel('Década')\n",
    "plt.xticks(rotation=20)\n",
    "plt.legend(title='Categorías',bbox_to_anchor=[1, 0.75], loc='upper left')\n",
    "plt.tight_layout()\n",
    "plt.show()\n",
    "\n",
    "# bases de cada rango de fechas\n",
    "generos_decada_piv.sum(axis=1)"
   ]
  },
  {
   "cell_type": "markdown",
   "metadata": {},
   "source": [
    "## HIPÓTESIS 3: *No hay correlación entre el número de reseñas y la puntuación media de los libros.*\n",
    "\n",
    "Se quiere comprobar si existe algún tipo de relación entre las valoraciones recibidas y la cantidad de reseñas recibidas por categoría y formato\n",
    "\n",
    "Para ello se ha realizado un scatterplot poniendo en el eje x la puntuación de las valoraciones, en el eje y el número de reseñas recibidas y el filtro de color por category_top_10."
   ]
  },
  {
   "cell_type": "code",
   "execution_count": null,
   "metadata": {},
   "outputs": [],
   "source": [
    "plt.figure(figsize=(10, 6))\n",
    "sns.scatterplot(data=filtered_audible, x='overall_rating_out_of_5', y='ratings', hue='category_top_10', palette='viridis', s=100)\n",
    "\n",
    "# Añadir etiquetas y título\n",
    "plt.title('Ratings vs. Overall Rating (agrupado por Category Top 10)', fontsize=14)\n",
    "plt.xlabel('Overall Rating (out of 5)')\n",
    "plt.ylabel('Number of Ratings')\n",
    "\n",
    "# Mostrar el gráfico\n",
    "plt.show()"
   ]
  }
 ],
 "metadata": {
  "kernelspec": {
   "display_name": "Python 3",
   "language": "python",
   "name": "python3"
  },
  "language_info": {
   "codemirror_mode": {
    "name": "ipython",
    "version": 3
   },
   "file_extension": ".py",
   "mimetype": "text/x-python",
   "name": "python",
   "nbconvert_exporter": "python",
   "pygments_lexer": "ipython3",
   "version": "3.12.6"
  }
 },
 "nbformat": 4,
 "nbformat_minor": 2
}
