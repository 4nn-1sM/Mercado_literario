{
 "cells": [
  {
   "cell_type": "code",
   "execution_count": 1,
   "metadata": {},
   "outputs": [],
   "source": [
    "import numpy as np\n",
    "import pandas as pd\n",
    "import seaborn as sns\n",
    "import matplotlib.pyplot as plt\n",
    "from scipy import stats\n",
    "import random"
   ]
  },
  {
   "cell_type": "code",
   "execution_count": null,
   "metadata": {},
   "outputs": [],
   "source": [
    "df = pd.DataFrame(pd.read_csv(\"../data/kindle_data-v2.csv\"))\n",
    "df.head(3)\n"
   ]
  },
  {
   "cell_type": "code",
   "execution_count": null,
   "metadata": {},
   "outputs": [],
   "source": [
    "for column in df.columns:\n",
    "    print(df[column].dtype)\n",
    "    if df[column].dtype == object:\n",
    "        df[column] = df[column].astype(str)\n",
    "        df[column] = df[column].str.strip()\n",
    "    "
   ]
  },
  {
   "cell_type": "code",
   "execution_count": null,
   "metadata": {},
   "outputs": [],
   "source": [
    "df.info()"
   ]
  },
  {
   "cell_type": "code",
   "execution_count": null,
   "metadata": {},
   "outputs": [],
   "source": [
    "# Inclusión de columna ranking que indica la posición actual de cada libro.\n",
    "ranking = list(range(1,len(df)+1))\n",
    "df[\"Ranking\"] = ranking\n",
    "df.head(3)"
   ]
  },
  {
   "cell_type": "code",
   "execution_count": 6,
   "metadata": {},
   "outputs": [],
   "source": [
    "# para eliminar todos los ebooks con 20 reviews o menos.\n",
    "df.drop(df[df[\"reviews\"] <= 20].index, inplace=True)"
   ]
  },
  {
   "cell_type": "code",
   "execution_count": null,
   "metadata": {},
   "outputs": [],
   "source": [
    "df[\"reviews\"].value_counts()"
   ]
  },
  {
   "cell_type": "code",
   "execution_count": null,
   "metadata": {},
   "outputs": [],
   "source": [
    "# creación de un ranking según el número de reviews por categoría.\n",
    "categories = df[\"category_name\"].unique()\n",
    "df_kindle_ranking = df.copy()\n",
    "for categorie in categories:\n",
    "    print(categorie)\n",
    "    df_categorie = df[df[\"category_name\"] == categorie].copy()\n",
    "    df_categorie = df_categorie.sort_values(by= [\"reviews\"], ascending= False)\n",
    "    df_categorie[\"ranking_\" + str(categorie)] = range(1, len(df_categorie) + 1)\n",
    "    print(len(df_categorie))\n",
    "    df_kindle_ranking = pd.merge(df_kindle_ranking,df_categorie, how=\"left\")\n"
   ]
  },
  {
   "cell_type": "code",
   "execution_count": null,
   "metadata": {},
   "outputs": [],
   "source": [
    "df_kindle_ranking[df_kindle_ranking[\"ranking_\" + str(categorie)] > 100].index"
   ]
  },
  {
   "cell_type": "code",
   "execution_count": 9,
   "metadata": {},
   "outputs": [],
   "source": [
    "# para eliminar todos los libros que no estén en el ranking 100 de su categoría\n",
    "for categorie in categories:\n",
    "    df_kindle_ranking.drop(df_kindle_ranking[df_kindle_ranking[\"ranking_\" + str(categorie)] > 100].index, inplace=True)"
   ]
  },
  {
   "cell_type": "code",
   "execution_count": null,
   "metadata": {},
   "outputs": [],
   "source": [
    "df_kindle_ranking"
   ]
  },
  {
   "cell_type": "code",
   "execution_count": null,
   "metadata": {},
   "outputs": [],
   "source": [
    "df_kindle_ranking.describe()"
   ]
  },
  {
   "cell_type": "code",
   "execution_count": null,
   "metadata": {},
   "outputs": [],
   "source": [
    "df_kindle_ranking.info()"
   ]
  },
  {
   "cell_type": "code",
   "execution_count": null,
   "metadata": {},
   "outputs": [],
   "source": [
    "df_kindle_ranking.columns"
   ]
  },
  {
   "cell_type": "code",
   "execution_count": 14,
   "metadata": {},
   "outputs": [],
   "source": [
    "# Creacion de nuevo dataframe con los 500 ebooks con más reviews.\n",
    "df_kindle_500 = df_kindle_ranking.sort_values(by= [\"reviews\"], ascending=False)[0:500].copy()\n"
   ]
  },
  {
   "cell_type": "code",
   "execution_count": null,
   "metadata": {},
   "outputs": [],
   "source": [
    "df_kindle_500"
   ]
  },
  {
   "cell_type": "code",
   "execution_count": 16,
   "metadata": {},
   "outputs": [],
   "source": [
    "# creación de nuevo dataframe filtrando por aquellos ebook son bestseller según la columna isBestSeller\n",
    "df_kindle_bestseller = df_kindle_ranking[df_kindle_ranking[\"isBestSeller\"] == True].copy()"
   ]
  },
  {
   "cell_type": "code",
   "execution_count": null,
   "metadata": {},
   "outputs": [],
   "source": [
    "df_kindle_bestseller[df_kindle_bestseller[\"author\"] == \"Stephenie Meyer\"]"
   ]
  },
  {
   "cell_type": "code",
   "execution_count": null,
   "metadata": {},
   "outputs": [],
   "source": [
    "df_kindle_500[df_kindle_500[\"author\"] == \"Stephenie Meyer\"]"
   ]
  },
  {
   "cell_type": "code",
   "execution_count": 4,
   "metadata": {},
   "outputs": [
    {
     "name": "stdout",
     "output_type": "stream",
     "text": [
      "Va por:  asin\n",
      "tipo columna:  object\n",
      "Va por:  title\n",
      "tipo columna:  object\n",
      "Va por:  author\n",
      "tipo columna:  object\n",
      "Va por:  soldBy\n",
      "tipo columna:  object\n",
      "Va por:  imgUrl\n",
      "tipo columna:  object\n",
      "Va por:  productURL\n",
      "tipo columna:  object\n",
      "Va por:  stars\n",
      "Va por:  reviews\n",
      "Va por:  price\n",
      "Va por:  isKindleUnlimited\n",
      "Va por:  category_id\n",
      "Va por:  isBestSeller\n",
      "Va por:  isEditorsPick\n",
      "Va por:  isGoodReadsChoice\n",
      "Va por:  publishedDate\n",
      "tipo columna:  object\n",
      "Va por:  category_name\n",
      "tipo columna:  object\n",
      "              asin                                              title  \\\n",
      "0       B00TZE87S4  Adult Children of Emotionally Immature Parents...   \n",
      "1       B08WCKY8MB  From Strength to Strength: Finding Success, Ha...   \n",
      "2       B09KPS84CJ  Good Inside: A Guide to Becoming the Parent Yo...   \n",
      "3       B07S7QPG6J             Everything I Know About Love: A Memoir   \n",
      "4       B00N6PEQV0  The Seven Principles for Making Marriage Work:...   \n",
      "...            ...                                                ...   \n",
      "133097  B0C3SJDLK8                                      Anna Karenina   \n",
      "133098  B09DW752Y1  Scary Smart: Scary Smart: The Future of Artifi...   \n",
      "133099  B0CFWHPJTN  The Count of Monte Cristo: The Original Unabri...   \n",
      "133100  B0C1KMFXJC                                      War And Peace   \n",
      "133101  B0BS1KYZB6                                Pride and Prejudice   \n",
      "\n",
      "                   author                    soldBy  \\\n",
      "0       Lindsay C. Gibson   Amazon.com Services LLC   \n",
      "1        Arthur C. Brooks   Penguin Group (USA) LLC   \n",
      "2           Becky Kennedy  HarperCollins Publishers   \n",
      "3          Dolly Alderton  HarperCollins Publishers   \n",
      "4            John Gottman          Random House LLC   \n",
      "...                   ...                       ...   \n",
      "133097        Leo Tolstoy                 De Marque   \n",
      "133098          Mo Gawdat   Amazon.com Services LLC   \n",
      "133099    Alexandre Dumas                 De Marque   \n",
      "133100        Leo Tolstoy                 De Marque   \n",
      "133101        Jane Austen                 De Marque   \n",
      "\n",
      "                                                   imgUrl  \\\n",
      "0       https://m.media-amazon.com/images/I/713KZTsaYp...   \n",
      "1       https://m.media-amazon.com/images/I/A1LZcJFs9E...   \n",
      "2       https://m.media-amazon.com/images/I/71RIWM0sv6...   \n",
      "3       https://m.media-amazon.com/images/I/71QdQpTiKZ...   \n",
      "4       https://m.media-amazon.com/images/I/813o4WOs+w...   \n",
      "...                                                   ...   \n",
      "133097  https://m.media-amazon.com/images/I/61RXEyMctk...   \n",
      "133098  https://m.media-amazon.com/images/I/71tjf6R-Wa...   \n",
      "133099  https://m.media-amazon.com/images/I/71zcCb5Pvu...   \n",
      "133100  https://m.media-amazon.com/images/I/715QpZlzmi...   \n",
      "133101  https://m.media-amazon.com/images/I/81Scutrtj4...   \n",
      "\n",
      "                                  productURL  stars  reviews  price  \\\n",
      "0       https://www.amazon.com/dp/B00TZE87S4    4.8        0   9.99   \n",
      "1       https://www.amazon.com/dp/B08WCKY8MB    4.4        0  16.99   \n",
      "2       https://www.amazon.com/dp/B09KPS84CJ    4.8        0  16.99   \n",
      "3       https://www.amazon.com/dp/B07S7QPG6J    4.2        0   9.95   \n",
      "4       https://www.amazon.com/dp/B00N6PEQV0    4.7        0  13.99   \n",
      "...                                      ...    ...      ...    ...   \n",
      "133097  https://www.amazon.com/dp/B0C3SJDLK8    4.7        0   0.00   \n",
      "133098  https://www.amazon.com/dp/B09DW752Y1    4.4        0   9.99   \n",
      "133099  https://www.amazon.com/dp/B0CFWHPJTN    4.8        0   1.99   \n",
      "133100  https://www.amazon.com/dp/B0C1KMFXJC    4.7        0   0.00   \n",
      "133101  https://www.amazon.com/dp/B0BS1KYZB6    4.7        0   0.00   \n",
      "\n",
      "        isKindleUnlimited  category_id  isBestSeller  isEditorsPick  \\\n",
      "0                   False            6          True          False   \n",
      "1                   False            6         False          False   \n",
      "2                   False            6         False           True   \n",
      "3                    True            6         False           True   \n",
      "4                   False            6         False          False   \n",
      "...                   ...          ...           ...            ...   \n",
      "133097              False           29          True          False   \n",
      "133098              False           29         False          False   \n",
      "133099              False           29          True          False   \n",
      "133100              False           29          True          False   \n",
      "133101              False           29         False          False   \n",
      "\n",
      "        isGoodReadsChoice publishedDate              category_name  \n",
      "0                   False    2015-06-01  Parenting & Relationships  \n",
      "1                   False    2022-02-15  Parenting & Relationships  \n",
      "2                   False    2022-09-13  Parenting & Relationships  \n",
      "3                   False    2020-02-25  Parenting & Relationships  \n",
      "4                   False    2015-05-05  Parenting & Relationships  \n",
      "...                   ...           ...                        ...  \n",
      "133097              False    2023-09-15                 Nonfiction  \n",
      "133098              False    2021-09-30                 Nonfiction  \n",
      "133099              False    2023-09-15                 Nonfiction  \n",
      "133100              False    2023-08-25                 Nonfiction  \n",
      "133101              False    2023-10-01                 Nonfiction  \n",
      "\n",
      "[133102 rows x 16 columns]\n"
     ]
    }
   ],
   "source": [
    "\"\"\"Con este archivo abrimos y hacemos la principal limpieza del dataset de los 100 libros más vendidos de amazon durante los años\n",
    "2009 a 2021\"\"\"\n",
    "\n",
    "import pandas as pd\n",
    "import numpy as np\n",
    "\n",
    "url= \"../data/kindle_data-v2.csv\"\n",
    "df = pd.DataFrame()\n",
    "def clean_dataset(url):\n",
    "    df = pd.read_csv(url)\n",
    "    df.drop(df[df[\"title\"].isnull()].index, inplace=True)\n",
    "    #df.drop(columns=['Unnamed: 0'], inplace=True)\n",
    "    df = df.dropna(how=\"all\", axis= 1)\n",
    "    for column in df.columns:\n",
    "        print(\"Va por: \", column)\n",
    "        if df[column].dtype == object:\n",
    "            print(\"tipo columna: \", df[column].dtype)\n",
    "            df[column] = df[column].astype(str)\n",
    "            df[column] = df[column].str.strip()\n",
    "    return df\n",
    "\n",
    "df = clean_dataset(url)\n",
    "print(df)        \n",
    "\n",
    "\n",
    "\n",
    "\n"
   ]
  },
  {
   "cell_type": "code",
   "execution_count": 3,
   "metadata": {},
   "outputs": [
    {
     "data": {
      "text/html": [
       "<div>\n",
       "<style scoped>\n",
       "    .dataframe tbody tr th:only-of-type {\n",
       "        vertical-align: middle;\n",
       "    }\n",
       "\n",
       "    .dataframe tbody tr th {\n",
       "        vertical-align: top;\n",
       "    }\n",
       "\n",
       "    .dataframe thead th {\n",
       "        text-align: right;\n",
       "    }\n",
       "</style>\n",
       "<table border=\"1\" class=\"dataframe\">\n",
       "  <thead>\n",
       "    <tr style=\"text-align: right;\">\n",
       "      <th></th>\n",
       "    </tr>\n",
       "  </thead>\n",
       "  <tbody>\n",
       "  </tbody>\n",
       "</table>\n",
       "</div>"
      ],
      "text/plain": [
       "Empty DataFrame\n",
       "Columns: []\n",
       "Index: []"
      ]
     },
     "execution_count": 3,
     "metadata": {},
     "output_type": "execute_result"
    }
   ],
   "source": [
    "df"
   ]
  },
  {
   "cell_type": "code",
   "execution_count": null,
   "metadata": {},
   "outputs": [],
   "source": [
    "# Inclusión de columna ranking que indica la posición actual de cada libro.\n",
    "ranking = list(range(1,len(df)+1))\n",
    "df[\"Ranking\"] = ranking\n"
   ]
  },
  {
   "cell_type": "code",
   "execution_count": null,
   "metadata": {},
   "outputs": [],
   "source": [
    "# creación de un ranking según el número de reviews por categoría.\n",
    "categories = df[\"category_name\"].unique()\n",
    "df_ranking = df.copy()\n",
    "for categorie in categories:\n",
    "    print(categorie)\n",
    "    df_categorie = df[df[\"category_name\"] == categorie].copy()\n",
    "    df_categorie = df_categorie.sort_values(by= [\"reviews\"], ascending= False)\n",
    "    df_categorie[\"ranking_\" + str(categorie)] = range(1, len(df_categorie) + 1)\n",
    "    df_ranking = pd.merge(df_ranking,df_categorie, how=\"left\")\n",
    "\n",
    "# para eliminar todos los libros que no estén en el ranking 100 de su categoría\n",
    "for categorie in categories:\n",
    "    df_ranking.drop(df_ranking[df_ranking[\"ranking_\" + str(categorie)] > 100].index, inplace=True)\n",
    "\n",
    "df.to_csv(\"../data/a_kindle100cat.csv\")"
   ]
  }
 ],
 "metadata": {
  "kernelspec": {
   "display_name": "Python 3",
   "language": "python",
   "name": "python3"
  },
  "language_info": {
   "codemirror_mode": {
    "name": "ipython",
    "version": 3
   },
   "file_extension": ".py",
   "mimetype": "text/x-python",
   "name": "python",
   "nbconvert_exporter": "python",
   "pygments_lexer": "ipython3",
   "version": "3.12.6"
  }
 },
 "nbformat": 4,
 "nbformat_minor": 2
}
