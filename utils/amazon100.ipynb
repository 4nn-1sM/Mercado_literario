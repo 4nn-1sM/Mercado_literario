{
 "cells": [
  {
   "cell_type": "code",
   "execution_count": 2,
   "metadata": {},
   "outputs": [],
   "source": [
    "import pandas as pd\n",
    "import numpy as np\n",
    "import os\n",
    "import shutil\n",
    "import matplotlib.pyplot as plt\n",
    "plt.style.use('seaborn-v0_8-pastel')\n",
    "import seaborn as sns\n",
    "sns.set_style(\"white\")"
   ]
  },
  {
   "cell_type": "code",
   "execution_count": 3,
   "metadata": {},
   "outputs": [],
   "source": [
    "df_t100am = pd.read_excel(\"../data/BBDD_EDA/Amazon_top100.xlsx\")"
   ]
  },
  {
   "cell_type": "code",
   "execution_count": 4,
   "metadata": {},
   "outputs": [
    {
     "name": "stdout",
     "output_type": "stream",
     "text": [
      "tipo columna:  object\n",
      "tipo columna:  object\n",
      "tipo columna:  object\n",
      "tipo columna:  object\n"
     ]
    }
   ],
   "source": [
    "\n",
    "def clean_top100amazon(df):\n",
    "    df.drop(df[df[\"title\"].isnull()].index, inplace=True)\n",
    "    df.drop(columns=['Unnamed: 0'], inplace=True)\n",
    "    df = df.dropna(how=\"all\", axis= 1)\n",
    "    df.columns = df.columns.str.lower().str.replace(' ', '_')\n",
    "    for column in df.columns:\n",
    "        if df[column].dtype == object:\n",
    "            print(\"tipo columna: \", df[column].dtype)\n",
    "            df[column] = df[column].str.lower()\n",
    "            df[column] = df[column].astype(str).str.strip()\n",
    "    return df\n",
    "\n",
    "df_amazon = clean_top100amazon(df_t100am)"
   ]
  },
  {
   "cell_type": "code",
   "execution_count": 6,
   "metadata": {},
   "outputs": [
    {
     "data": {
      "text/html": [
       "<div>\n",
       "<style scoped>\n",
       "    .dataframe tbody tr th:only-of-type {\n",
       "        vertical-align: middle;\n",
       "    }\n",
       "\n",
       "    .dataframe tbody tr th {\n",
       "        vertical-align: top;\n",
       "    }\n",
       "\n",
       "    .dataframe thead th {\n",
       "        text-align: right;\n",
       "    }\n",
       "</style>\n",
       "<table border=\"1\" class=\"dataframe\">\n",
       "  <thead>\n",
       "    <tr style=\"text-align: right;\">\n",
       "      <th></th>\n",
       "      <th>price</th>\n",
       "      <th>ranks</th>\n",
       "      <th>title</th>\n",
       "      <th>no_of_reviews</th>\n",
       "      <th>ratings</th>\n",
       "      <th>author</th>\n",
       "      <th>cover_type</th>\n",
       "      <th>year</th>\n",
       "      <th>genre</th>\n",
       "    </tr>\n",
       "  </thead>\n",
       "  <tbody>\n",
       "    <tr>\n",
       "      <th>0</th>\n",
       "      <td>12.49</td>\n",
       "      <td>1.0</td>\n",
       "      <td>the lost symbol</td>\n",
       "      <td>16118.0</td>\n",
       "      <td>4.4</td>\n",
       "      <td>dan brown</td>\n",
       "      <td>hardcover</td>\n",
       "      <td>2009</td>\n",
       "      <td>fiction</td>\n",
       "    </tr>\n",
       "    <tr>\n",
       "      <th>1</th>\n",
       "      <td>13.40</td>\n",
       "      <td>2.0</td>\n",
       "      <td>the shack: where tragedy confronts eternity</td>\n",
       "      <td>23392.0</td>\n",
       "      <td>4.7</td>\n",
       "      <td>william p. young</td>\n",
       "      <td>paperback</td>\n",
       "      <td>2009</td>\n",
       "      <td>fiction</td>\n",
       "    </tr>\n",
       "    <tr>\n",
       "      <th>2</th>\n",
       "      <td>9.93</td>\n",
       "      <td>3.0</td>\n",
       "      <td>liberty and tyranny: a conservative manifesto</td>\n",
       "      <td>5036.0</td>\n",
       "      <td>4.8</td>\n",
       "      <td>mark r. levin</td>\n",
       "      <td>hardcover</td>\n",
       "      <td>2009</td>\n",
       "      <td>non fiction</td>\n",
       "    </tr>\n",
       "  </tbody>\n",
       "</table>\n",
       "</div>"
      ],
      "text/plain": [
       "   price  ranks                                          title  no_of_reviews  \\\n",
       "0  12.49    1.0                                the lost symbol        16118.0   \n",
       "1  13.40    2.0    the shack: where tragedy confronts eternity        23392.0   \n",
       "2   9.93    3.0  liberty and tyranny: a conservative manifesto         5036.0   \n",
       "\n",
       "   ratings            author cover_type  year        genre  \n",
       "0      4.4         dan brown  hardcover  2009      fiction  \n",
       "1      4.7  william p. young  paperback  2009      fiction  \n",
       "2      4.8     mark r. levin  hardcover  2009  non fiction  "
      ]
     },
     "execution_count": 6,
     "metadata": {},
     "output_type": "execute_result"
    }
   ],
   "source": [
    "df_amazon.head(3)"
   ]
  }
 ],
 "metadata": {
  "kernelspec": {
   "display_name": "Python 3",
   "language": "python",
   "name": "python3"
  },
  "language_info": {
   "codemirror_mode": {
    "name": "ipython",
    "version": 3
   },
   "file_extension": ".py",
   "mimetype": "text/x-python",
   "name": "python",
   "nbconvert_exporter": "python",
   "pygments_lexer": "ipython3",
   "version": "3.12.6"
  }
 },
 "nbformat": 4,
 "nbformat_minor": 2
}
